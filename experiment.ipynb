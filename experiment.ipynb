{
 "cells": [
  {
   "cell_type": "code",
   "execution_count": 219,
   "metadata": {},
   "outputs": [
    {
     "name": "stderr",
     "output_type": "stream",
     "text": [
      "[nltk_data] Downloading package punkt to\n",
      "[nltk_data]     /Users/braedencallaghan/nltk_data...\n",
      "[nltk_data]   Package punkt is already up-to-date!\n",
      "[nltk_data] Downloading package wordnet to\n",
      "[nltk_data]     /Users/braedencallaghan/nltk_data...\n",
      "[nltk_data]   Package wordnet is already up-to-date!\n",
      "[nltk_data] Downloading package averaged_perceptron_tagger to\n",
      "[nltk_data]     /Users/braedencallaghan/nltk_data...\n",
      "[nltk_data]   Package averaged_perceptron_tagger is already up-to-\n",
      "[nltk_data]       date!\n"
     ]
    }
   ],
   "source": [
    "import numpy as np\n",
    "import pandas as pd\n",
    "from sklearn.linear_model import LogisticRegression\n",
    "from sklearn.metrics import accuracy_score, precision_score, recall_score\n",
    "import nltk\n",
    "from nltk.tokenize import word_tokenize\n",
    "from sklearn.feature_extraction.text import TfidfVectorizer\n",
    "from nltk.stem import WordNetLemmatizer\n",
    "from nltk.tokenize import word_tokenize\n",
    "from sklearn.pipeline import Pipeline\n",
    "\n",
    "nltk.download('punkt')\n",
    "nltk.download('wordnet')\n",
    "nltk.download('averaged_perceptron_tagger')\n",
    "\n",
    "data = pd.read_csv('tweets.csv')"
   ]
  },
  {
   "cell_type": "code",
   "execution_count": 220,
   "metadata": {},
   "outputs": [],
   "source": [
    "# There are 1,599,998 Tweets (There was some problem reading in one so I removed one of the opposite class to balance)\n",
    "tweets = data.iloc[:, 5].tolist()[:-1]\n",
    "labels = data.iloc[:, 0].tolist()[:-1]\n",
    "\n",
    "# These are the middle 5,000 tweets\n",
    "test_tweets = tweets[797499:-797499]\n",
    "test_labels = labels[797499:-797499]\n",
    "\n",
    "# These are the tweets with the middle 5,000 removed\n",
    "train_tweets = tweets[:797499] + tweets[-797499:]\n",
    "train_labels = labels[:797499] + labels[-797499:]"
   ]
  },
  {
   "cell_type": "code",
   "execution_count": 221,
   "metadata": {},
   "outputs": [],
   "source": [
    "lemmatizer = WordNetLemmatizer()\n",
    "\n",
    "def preprocess(text):\n",
    "    tokens = word_tokenize(text.lower())\n",
    "    # lemmatized_tokens = [lemmatizer.lemmatize(word) for word in tokens if word.isalpha()]\n",
    "    # return ' '.join(lemmatized_tokens)\n",
    "    return ' '.join(tokens)\n",
    "\n",
    "vectorizer = TfidfVectorizer(ngram_range=(1, 2)) \n",
    "\n",
    "test_tweets = [preprocess(tweet) for tweet in test_tweets]\n"
   ]
  },
  {
   "cell_type": "code",
   "execution_count": 222,
   "metadata": {},
   "outputs": [],
   "source": [
    "def evaluate_dataset(input_tweets, input_labels):\n",
    "    preprocessed_tweets = [preprocess(tweet) for tweet in input_tweets]\n",
    "    # preprocessed_tweets = input_tweets\n",
    "        \n",
    "    logreg = LogisticRegression(max_iter=1000)\n",
    "\n",
    "    pipeline = Pipeline([\n",
    "        ('vectorizer', vectorizer),\n",
    "        ('classifier', logreg)\n",
    "    ])\n",
    "\n",
    "    pipeline.fit(preprocessed_tweets, input_labels)\n",
    "\n",
    "    # Predict labels for the test set\n",
    "    y_pred = pipeline.predict(test_tweets)\n",
    "\n",
    "    # Calculate the accuracy\n",
    "    accuracy = accuracy_score(test_labels, y_pred)\n",
    "    precision = precision_score(test_labels, y_pred, pos_label=4)\n",
    "    recall = recall_score(test_labels, y_pred, pos_label=4)\n",
    "\n",
    "    return accuracy, precision, recall"
   ]
  },
  {
   "cell_type": "markdown",
   "metadata": {},
   "source": [
    "# 1,000 Training Tweets"
   ]
  },
  {
   "cell_type": "code",
   "execution_count": 223,
   "metadata": {},
   "outputs": [
    {
     "name": "stdout",
     "output_type": "stream",
     "text": [
      "Accuracy: 0.7288\n",
      "Precision: 0.7631\n",
      "Recall: 0.6636\n"
     ]
    }
   ],
   "source": [
    "accuracy, precision, recall = evaluate_dataset(train_tweets[796999:-796999], train_labels[796999:-796999])\n",
    "print(f'Accuracy: {accuracy:.4f}')\n",
    "print(f'Precision: {precision:.4f}')\n",
    "print(f'Recall: {recall:.4f}')"
   ]
  },
  {
   "cell_type": "code",
   "execution_count": null,
   "metadata": {},
   "outputs": [],
   "source": []
  }
 ],
 "metadata": {
  "kernelspec": {
   "display_name": "base",
   "language": "python",
   "name": "python3"
  },
  "language_info": {
   "codemirror_mode": {
    "name": "ipython",
    "version": 3
   },
   "file_extension": ".py",
   "mimetype": "text/x-python",
   "name": "python",
   "nbconvert_exporter": "python",
   "pygments_lexer": "ipython3",
   "version": "3.9.12"
  }
 },
 "nbformat": 4,
 "nbformat_minor": 2
}
