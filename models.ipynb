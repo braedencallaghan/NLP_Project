{
 "cells": [
  {
   "cell_type": "code",
   "execution_count": 2,
   "metadata": {},
   "outputs": [
    {
     "name": "stderr",
     "output_type": "stream",
     "text": [
      "[nltk_data] Downloading package punkt to\n",
      "[nltk_data]     /Users/braedencallaghan/nltk_data...\n",
      "[nltk_data]   Package punkt is already up-to-date!\n"
     ]
    }
   ],
   "source": [
    "import numpy as np\n",
    "import pandas as pd\n",
    "from sklearn.model_selection import train_test_split\n",
    "from sklearn.linear_model import LogisticRegression\n",
    "from sklearn.metrics import accuracy_score\n",
    "import nltk\n",
    "from nltk.tokenize import word_tokenize\n",
    "from nltk.stem import PorterStemmer\n",
    "from gensim.models import Word2Vec\n",
    "\n",
    "nltk.download('punkt')\n",
    "\n",
    "data = pd.read_csv('tweets.csv')"
   ]
  },
  {
   "cell_type": "code",
   "execution_count": 88,
   "metadata": {},
   "outputs": [],
   "source": [
    "tweets = data.iloc[:, 5].tolist()[400000:-400000]\n",
    "labels = data.iloc[:, 0].tolist()[400000:-400000]\n",
    "\n",
    "test_tweets = data.iloc[:, 5].tolist()[1595000:]\n",
    "test_labels = data.iloc[:, 0].tolist()[1595000:]"
   ]
  },
  {
   "cell_type": "markdown",
   "metadata": {},
   "source": [
    "# Preprocessing with Stemmer and lowercase, Learning embeddings with Word2Vec"
   ]
  },
  {
   "cell_type": "code",
   "execution_count": 45,
   "metadata": {},
   "outputs": [],
   "source": [
    "# Initialize PorterStemmer\n",
    "stemmer = PorterStemmer()\n",
    "\n",
    "def preprocess(text):\n",
    "    tokens = word_tokenize(text.lower())\n",
    "    filtered_tokens = [stemmer.stem(word) for word in tokens if word.isalpha()]\n",
    "    return filtered_tokens\n",
    "\n",
    "preprocessed_tweets = [preprocess(tweet) for tweet in tweets]\n",
    "\n",
    "# Train a Word2Vec model\n",
    "model_w2v = Word2Vec(sentences=preprocessed_tweets, vector_size=100, window=5, min_count=1, workers=4)\n",
    "\n",
    "# Convert texts to embeddings\n",
    "def text_to_embedding(text):\n",
    "    embeddings = [model_w2v.wv[word] for word in text if word in model_w2v.wv]\n",
    "    return np.mean(embeddings, axis=0) if embeddings else np.zeros(100)\n",
    "\n",
    "embeddings = np.array([text_to_embedding(text) for text in preprocessed_tweets])\n"
   ]
  },
  {
   "cell_type": "markdown",
   "metadata": {},
   "source": [
    "# Using embeddings with LogReg"
   ]
  },
  {
   "cell_type": "code",
   "execution_count": 46,
   "metadata": {},
   "outputs": [],
   "source": [
    "X_train, X_test, y_train, y_test = train_test_split(\n",
    "    embeddings, labels, test_size=0.2, random_state=42, stratify=labels\n",
    ")"
   ]
  },
  {
   "cell_type": "code",
   "execution_count": 47,
   "metadata": {},
   "outputs": [
    {
     "name": "stdout",
     "output_type": "stream",
     "text": [
      "Accuracy: 0.74031875\n"
     ]
    }
   ],
   "source": [
    "model = LogisticRegression(max_iter=1000)\n",
    "\n",
    "# Train the model using the training data\n",
    "model.fit(X_train, y_train)\n",
    "\n",
    "# Predict the labels for the test set\n",
    "y_pred = model.predict(X_test)\n",
    "\n",
    "# Evaluate the model's performance\n",
    "accuracy = accuracy_score(y_test, y_pred)\n",
    "print(\"Accuracy:\", accuracy)"
   ]
  },
  {
   "cell_type": "markdown",
   "metadata": {},
   "source": [
    "# Using bigrams for embeddings"
   ]
  },
  {
   "cell_type": "code",
   "execution_count": 48,
   "metadata": {},
   "outputs": [],
   "source": [
    "from gensim.models.phrases import Phrases, Phraser\n",
    "\n",
    "# Detect and create bigrams\n",
    "phrases = Phrases(preprocessed_tweets, min_count=5, threshold=10)\n",
    "bigram = Phraser(phrases)\n",
    "bigram_tweets = [bigram[tweet] for tweet in preprocessed_tweets]\n",
    "\n",
    "# Train Word2Vec on the bigrams\n",
    "model_w2v = Word2Vec(sentences=bigram_tweets, vector_size=100, window=5, min_count=1, workers=4)\n",
    "\n",
    "# Convert texts to embeddings\n",
    "def text_to_embedding(text):\n",
    "    embeddings = [model_w2v.wv[word] for word in text if word in model_w2v.wv]\n",
    "    return np.mean(embeddings, axis=0) if embeddings else np.zeros(100)\n",
    "\n",
    "embeddings2 = np.array([text_to_embedding(text) for text in preprocessed_tweets])"
   ]
  },
  {
   "cell_type": "markdown",
   "metadata": {},
   "source": [
    "# LogReg again"
   ]
  },
  {
   "cell_type": "code",
   "execution_count": 49,
   "metadata": {},
   "outputs": [],
   "source": [
    "X_train2, X_test2, y_train2, y_test2 = train_test_split(\n",
    "    embeddings2, labels, test_size=0.2, random_state=42, stratify=labels\n",
    ")"
   ]
  },
  {
   "cell_type": "code",
   "execution_count": 50,
   "metadata": {},
   "outputs": [
    {
     "name": "stdout",
     "output_type": "stream",
     "text": [
      "Accuracy: 0.7388125\n"
     ]
    }
   ],
   "source": [
    "model2 = LogisticRegression(max_iter=1000)\n",
    "\n",
    "# Train the model using the training data\n",
    "model2.fit(X_train2, y_train2)\n",
    "\n",
    "# Predict the labels for the test set\n",
    "y_pred2 = model2.predict(X_test2)\n",
    "\n",
    "# Evaluate the model's performance\n",
    "accuracy = accuracy_score(y_test2, y_pred2)\n",
    "print(\"Accuracy:\", accuracy)"
   ]
  },
  {
   "cell_type": "markdown",
   "metadata": {},
   "source": [
    "# Using Bigrams with BoW and LogReg"
   ]
  },
  {
   "cell_type": "code",
   "execution_count": 54,
   "metadata": {},
   "outputs": [
    {
     "name": "stdout",
     "output_type": "stream",
     "text": [
      "Accuracy: 0.7876\n"
     ]
    }
   ],
   "source": [
    "from sklearn.pipeline import Pipeline\n",
    "from sklearn.feature_extraction.text import CountVectorizer\n",
    "from sklearn.linear_model import LogisticRegression\n",
    "\n",
    "def preprocess(text):\n",
    "    tokens = word_tokenize(text.lower())\n",
    "    filtered_tokens = [stemmer.stem(word) for word in tokens if word.isalpha()]\n",
    "    return ' '.join(filtered_tokens)\n",
    "\n",
    "# Create a CountVectorizer instance for bigrams\n",
    "vectorizer = CountVectorizer(ngram_range=(2, 2))\n",
    "\n",
    "# Initialize the LogisticRegression model\n",
    "logreg = LogisticRegression(max_iter=1000)\n",
    "\n",
    "# Split the dataset into training and testing sets\n",
    "# Make sure to preprocess the text data before splitting\n",
    "preprocessed_tweets = [preprocess(tweet) for tweet in tweets]\n",
    "X_train, X_test, y_train, y_test = train_test_split(preprocessed_tweets, labels, test_size=0.2, random_state=42)\n",
    "\n",
    "# Create a pipeline that first creates bigram features and then trains a logistic regression model\n",
    "pipeline = Pipeline([\n",
    "    ('vectorizer', vectorizer),\n",
    "    ('classifier', logreg)\n",
    "])\n",
    "\n",
    "# Train the pipeline on the training data\n",
    "pipeline.fit(X_train, y_train)\n",
    "\n",
    "# Predict labels for the test set\n",
    "y_pred = pipeline.predict(X_test)\n",
    "\n",
    "# Calculate the accuracy\n",
    "accuracy = accuracy_score(y_test, y_pred)\n",
    "print(f\"Accuracy: {accuracy:.4f}\")"
   ]
  },
  {
   "cell_type": "code",
   "execution_count": 58,
   "metadata": {},
   "outputs": [
    {
     "name": "stderr",
     "output_type": "stream",
     "text": [
      "[nltk_data] Downloading package wordnet to\n",
      "[nltk_data]     /Users/braedencallaghan/nltk_data...\n",
      "[nltk_data] Downloading package averaged_perceptron_tagger to\n",
      "[nltk_data]     /Users/braedencallaghan/nltk_data...\n",
      "[nltk_data]   Unzipping taggers/averaged_perceptron_tagger.zip.\n"
     ]
    },
    {
     "name": "stdout",
     "output_type": "stream",
     "text": [
      "Accuracy: 0.8234\n"
     ]
    }
   ],
   "source": [
    "from sklearn.feature_extraction.text import TfidfVectorizer\n",
    "from nltk.stem import WordNetLemmatizer\n",
    "from nltk.tokenize import word_tokenize\n",
    "\n",
    "# Download required NLTK resources if not already available\n",
    "nltk.download('wordnet')\n",
    "nltk.download('averaged_perceptron_tagger')\n",
    "\n",
    "lemmatizer = WordNetLemmatizer()\n",
    "\n",
    "# Preprocessing function that tokenizes and lemmatizes the text\n",
    "def preprocess(text):\n",
    "    tokens = word_tokenize(text.lower())\n",
    "    lemmatized_tokens = [lemmatizer.lemmatize(word) for word in tokens if word.isalpha()]\n",
    "    return ' '.join(lemmatized_tokens)\n",
    "\n",
    "preprocessed_tweets = [preprocess(tweet) for tweet in tweets]\n",
    "\n",
    "# Split the dataset into training and testing sets\n",
    "X_train, X_test, y_train, y_test = train_test_split(preprocessed_tweets, labels, test_size=0.2, random_state=42)\n",
    "\n",
    "# Create a TfidfVectorizer instance for bigrams\n",
    "vectorizer = TfidfVectorizer(ngram_range=(1, 2))  # using unigrams and bigrams\n",
    "\n",
    "# Initialize the LogisticRegression model\n",
    "logreg = LogisticRegression(max_iter=1000)\n",
    "\n",
    "# Create a pipeline that first creates TF-IDF features and then trains a logistic regression model\n",
    "pipeline = Pipeline([\n",
    "    ('vectorizer', vectorizer),\n",
    "    ('classifier', logreg)\n",
    "])\n",
    "\n",
    "# Train the pipeline on the training data\n",
    "pipeline.fit(X_train, y_train)\n",
    "\n",
    "# Predict labels for the test set\n",
    "y_pred = pipeline.predict(X_test)\n",
    "\n",
    "# Calculate the accuracy\n",
    "accuracy = accuracy_score(y_test, y_pred)\n",
    "print(f\"Accuracy: {accuracy:.4f}\")\n"
   ]
  },
  {
   "cell_type": "code",
   "execution_count": 82,
   "metadata": {},
   "outputs": [],
   "source": [
    "tweets = data.iloc[:, 5].tolist()[799500:-799500]\n",
    "labels = data.iloc[:, 0].tolist()[799500:-799500]"
   ]
  },
  {
   "cell_type": "markdown",
   "metadata": {},
   "source": [
    "# I think this is the ticket for now"
   ]
  },
  {
   "cell_type": "code",
   "execution_count": 84,
   "metadata": {},
   "outputs": [
    {
     "name": "stdout",
     "output_type": "stream",
     "text": [
      "Accuracy: 0.7750\n"
     ]
    }
   ],
   "source": [
    "import numpy as np\n",
    "\n",
    "\n",
    "def preprocess(text):\n",
    "    tokens = word_tokenize(text.lower())\n",
    "    lemmatized_tokens = [lemmatizer.lemmatize(word) for word in tokens if word.isalpha()]\n",
    "    return ' '.join(lemmatized_tokens)\n",
    "\n",
    "preprocessed_tweets = [preprocess(tweet) for tweet in tweets]\n",
    "\n",
    "\n",
    "\n",
    "# Create a TfidfVectorizer instance for bigrams\n",
    "vectorizer = TfidfVectorizer(ngram_range=(1, 2))  # using unigrams and bigrams\n",
    "\n",
    "# Initialize the LogisticRegression model\n",
    "logreg = LogisticRegression()\n",
    "\n",
    "# Create a pipeline that first creates TF-IDF features and then trains a logistic regression model\n",
    "pipeline = Pipeline([\n",
    "    ('vectorizer', vectorizer),\n",
    "    ('classifier', logreg)\n",
    "])\n",
    "\n",
    "# Train the pipeline on the training data\n",
    "pipeline.fit(X_train, y_train)\n",
    "\n",
    "# Predict labels for the test set\n",
    "y_pred = pipeline.predict(X_test)\n",
    "\n",
    "# Calculate the accuracy\n",
    "accuracy = accuracy_score(y_test, y_pred)\n",
    "print(f\"Accuracy: {accuracy:.4f}\")\n"
   ]
  }
 ],
 "metadata": {
  "kernelspec": {
   "display_name": "base",
   "language": "python",
   "name": "python3"
  },
  "language_info": {
   "codemirror_mode": {
    "name": "ipython",
    "version": 3
   },
   "file_extension": ".py",
   "mimetype": "text/x-python",
   "name": "python",
   "nbconvert_exporter": "python",
   "pygments_lexer": "ipython3",
   "version": "3.9.12"
  }
 },
 "nbformat": 4,
 "nbformat_minor": 2
}
